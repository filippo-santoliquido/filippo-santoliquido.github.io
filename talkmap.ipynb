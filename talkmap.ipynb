{
 "cells": [
  {
   "cell_type": "markdown",
   "metadata": {},
   "source": [
    "# Leaflet cluster map of talk locations\n",
    "\n",
    "Run this from the _talks/ directory, which contains .md files of all your talks. This scrapes the location YAML field from each .md file, geolocates it with geopy/Nominatim, and uses the getorg library to output data, HTML, and Javascript for a standalone cluster map."
   ]
  },
  {
   "cell_type": "code",
   "execution_count": 1,
   "metadata": {
    "collapsed": false,
    "jupyter": {
     "outputs_hidden": false
    }
   },
   "outputs": [
    {
     "name": "stdout",
     "output_type": "stream",
     "text": [
      "Iywidgets and ipyleaflet support disabled. You must be in a Jupyter notebook to use this feature.\n",
      "Error raised:\n",
      "No module named 'ipyleaflet'\n",
      "Check that you have enabled ipyleaflet in Jupyter with:\n",
      "    jupyter nbextension enable --py ipyleaflet\n"
     ]
    }
   ],
   "source": [
    "#!pip install getorg --upgrade\n",
    "import glob\n",
    "import getorg\n",
    "from geopy import Nominatim\n",
    "import geopy"
   ]
  },
  {
   "cell_type": "code",
   "execution_count": 2,
   "metadata": {
    "collapsed": false,
    "jupyter": {
     "outputs_hidden": false
    }
   },
   "outputs": [],
   "source": [
    "#g = glob.glob(\"_talks/*.md\")\n",
    "#print(g)"
   ]
  },
  {
   "cell_type": "code",
   "execution_count": 3,
   "metadata": {
    "tags": []
   },
   "outputs": [],
   "source": [
    "\n",
    "geocoder = Nominatim(user_agent=\"filippo.santoliquido@hotmail.it\")\n",
    "#location_dict = {}\n",
    "#location = \"\"\n",
    "#permalink = \"\"\n",
    "#title = \"\""
   ]
  },
  {
   "cell_type": "code",
   "execution_count": 8,
   "metadata": {},
   "outputs": [
    {
     "name": "stdout",
     "output_type": "stream",
     "text": [
      "Verona, Veneto, Italia\n"
     ]
    }
   ],
   "source": [
    "print(geocoder.geocode('Verona'))"
   ]
  },
  {
   "cell_type": "code",
   "execution_count": 9,
   "metadata": {
    "collapsed": false,
    "jupyter": {
     "outputs_hidden": false
    }
   },
   "outputs": [],
   "source": [
    "#for file in g:\n",
    "#    with open(file, 'r') as f:\n",
    "#        lines = f.read()\n",
    "#        if lines.find('location: \"') > 1:\n",
    "#            loc_start = lines.find('location: \"') + 11\n",
    "#            lines_trim = lines[loc_start:]\n",
    "#            loc_end = lines_trim.find('\"')\n",
    "#            location = lines_trim[:loc_end]\n",
    "                            \n",
    "           \n",
    "#        location_dict[location] = geocoder.geocode(location)\n",
    "#        print(location, \"\\n\", location_dict[location])\n"
   ]
  },
  {
   "cell_type": "code",
   "execution_count": 10,
   "metadata": {},
   "outputs": [],
   "source": [
    "locations = [\n",
    "    'Milan',\n",
    "    'Paris',\n",
    "    'Trieste',\n",
    "    'Cagliari',\n",
    "    'Valencia',\n",
    "    'New York',\n",
    "    'Paris',\n",
    "    'Padova',\n",
    "    'Melbourne',\n",
    "    'Leiden',\n",
    "    'São José dos Campos, Brazil',\n",
    "    'Padova',\n",
    "    'Paris',\n",
    "    'La Thuile, Italy',\n",
    "    'Padova',\n",
    "    'Leiden',\n",
    "    'Innsbruck']\n",
    "\n"
   ]
  },
  {
   "cell_type": "code",
   "execution_count": 11,
   "metadata": {},
   "outputs": [
    {
     "name": "stdout",
     "output_type": "stream",
     "text": [
      "Milan \n",
      " Milano, Lombardia, Italia\n",
      "Paris \n",
      " Paris, Île-de-France, France métropolitaine, 75007, France\n",
      "Trieste \n",
      " Trieste, Friuli-Venezia Giulia, 34121-34151, Italia\n",
      "Cagliari \n",
      " Casteddu/Cagliari, Cagliari, Sardigna/Sardegna, Italia\n",
      "Valencia \n",
      " València, Comarca de València, València / Valencia, Comunitat Valenciana, España\n",
      "New York \n",
      " City of New York, New York, United States\n",
      "Paris \n",
      " Paris, Île-de-France, France métropolitaine, 75007, France\n",
      "Padova \n",
      " Padova, Veneto, Italia\n",
      "Melbourne \n",
      " Melbourne, City of Melbourne, Victoria, Australia\n",
      "Leiden \n",
      " Leiden, Zuid-Holland, Nederland\n",
      "São José dos Campos, Brazil \n",
      " São José dos Campos, Região Imediata de São José dos Campos, Região Metropolitana do Vale do Paraíba e Litoral Norte, Região Geográfica Intermediária de São José dos Campos, São Paulo, Região Sudeste, Brasil\n",
      "Padova \n",
      " Padova, Veneto, Italia\n",
      "Paris \n",
      " Paris, Île-de-France, France métropolitaine, 75007, France\n",
      "La Thuile, Italy \n",
      " La Thuile, Valle d'Aosta / Vallée d'Aoste, 11016, Italia\n",
      "Padova \n",
      " Padova, Veneto, Italia\n",
      "Leiden \n",
      " Leiden, Zuid-Holland, Nederland\n",
      "Innsbruck \n",
      " Innsbruck, Tirol, Österreich\n"
     ]
    }
   ],
   "source": [
    "location_dict = {}\n",
    "for l in locations:\n",
    "    location = l\n",
    "    location_dict[location] = geocoder.geocode(location)\n",
    "    print(location, \"\\n\", location_dict[location])"
   ]
  },
  {
   "cell_type": "code",
   "execution_count": 12,
   "metadata": {
    "collapsed": false,
    "jupyter": {
     "outputs_hidden": false
    }
   },
   "outputs": [
    {
     "data": {
      "text/plain": [
       "'Written map to talkmap/'"
      ]
     },
     "execution_count": 12,
     "metadata": {},
     "output_type": "execute_result"
    }
   ],
   "source": [
    "m = getorg.orgmap.create_map_obj()\n",
    "getorg.orgmap.output_html_cluster_map(location_dict, folder_name=\"talkmap\", hashed_usernames=False)"
   ]
  },
  {
   "cell_type": "code",
   "execution_count": 13,
   "metadata": {
    "tags": []
   },
   "outputs": [
    {
     "name": "stdout",
     "output_type": "stream",
     "text": [
      "Verona, Veneto, Italia\n"
     ]
    }
   ],
   "source": [
    "print(geocoder.geocode('Verona'))"
   ]
  },
  {
   "cell_type": "code",
   "execution_count": null,
   "metadata": {},
   "outputs": [],
   "source": []
  },
  {
   "cell_type": "code",
   "execution_count": null,
   "metadata": {},
   "outputs": [],
   "source": []
  },
  {
   "cell_type": "code",
   "execution_count": null,
   "metadata": {},
   "outputs": [],
   "source": []
  },
  {
   "cell_type": "code",
   "execution_count": null,
   "metadata": {},
   "outputs": [],
   "source": []
  }
 ],
 "metadata": {
  "anaconda-cloud": {},
  "kernelspec": {
   "display_name": "Python 3",
   "language": "python",
   "name": "python3"
  },
  "language_info": {
   "codemirror_mode": {
    "name": "ipython",
    "version": 3
   },
   "file_extension": ".py",
   "mimetype": "text/x-python",
   "name": "python",
   "nbconvert_exporter": "python",
   "pygments_lexer": "ipython3",
   "version": "3.9.1"
  }
 },
 "nbformat": 4,
 "nbformat_minor": 4
}
